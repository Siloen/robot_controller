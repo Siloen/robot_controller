{
 "cells": [
  {
   "cell_type": "markdown",
   "metadata": {},
   "source": [
    "## 控制迷宫寻宝机器人\n",
    "\n",
    "在这个项目中，你将使用刚刚学到的知识，尝试根据要求，编写代码，来控制一个机器人，在模拟环境中行走，并找到目标宝藏。\n",
    "\n",
    "机器人所在的模拟环境中，会包含这样几个因素：机器人的起点、障碍物、宝藏箱。你的任务包括：\n",
    "\n",
    "1. 分析模拟环境的数据\n",
    "2. 控制机器人随机行动\n",
    "3. （可选）控制机器人走到终点\n",
    "\n",
    "\n",
    "* 一个良好的含有注释的代码，可以让你的程序可读性更高，尝试为你自己的代码添加相应的注释。"
   ]
  },
  {
   "cell_type": "markdown",
   "metadata": {},
   "source": [
    "---\n",
    "\n",
    "---\n",
    "\n",
    "## 第一节 分析模拟环境的数据\n",
    "\n",
    "首先，只有足够了解机器人所在的环境，我们的机器人才能成功找到目标宝藏，因此首先我们来对机器人所在环境的数据进行分析。在这个部分，会考察你对数据结构、控制流的了解。\n"
   ]
  },
  {
   "cell_type": "markdown",
   "metadata": {},
   "source": [
    "### 1.1 理解模拟环境数据的储存格式\n",
    "\n",
    "首先我们思考这样的问题：如何存储模拟环境的数据呢？\n",
    "\n",
    "我们将我们的模拟环境抽象成一个格子世界，每个格子按照坐标编号进行标记；每个格子中会有四个情况，分别为普通格子（可通行）、机器人的起点（可通行）、障碍物（不可通行）、宝藏箱（目标点）。例如，一个模拟环境就可以抽象成3行4列的格子世界，并按这按这样的方法进行存储：\n",
    "```\n",
    "environment = [[0,0,0,2], \n",
    "               [1,2,0,0],\n",
    "               [0,2,3,2]]\n",
    "```\n",
    "我们用了一个列表来保存虚拟世界的数据。外层列表中的每一个元素依然是一个列表，它代表模拟环境中每行的数据。而对于这个列表中的每个元素都是一个数，它们的含义是：\n",
    "- 0: 普通格子（可通行）\n",
    "- 1: 机器人的起点（可通行）\n",
    "- 2: 障碍物（不可通行）\n",
    "- 3: 宝藏箱（目标点）\n",
    "\n",
    "那么，根据上述的数据，这个迷宫的第二行第一列，是我们机器人的起点。\n",
    "\n",
    "__注：我们描述的迷宫的坐标位置（第一行第一列），和迷宫下标索引的值（如 `(0,0)`）是不一样的，请注意下标的问题。__\n",
    "\n",
    "\n",
    "如下的代码，使用了辅助函数，读取了模拟环境的数据，并保存在了 `env_data` 变量中。\n"
   ]
  },
  {
   "cell_type": "code",
   "execution_count": 1,
   "metadata": {},
   "outputs": [
    {
     "name": "stdout",
     "output_type": "stream",
     "text": [
      "maze-id 1-1543421798\n",
      "[[3, 2, 2, 2, 2, 2, 2, 2, 1],\n",
      " [0, 0, 2, 2, 2, 2, 2, 0, 0],\n",
      " [2, 0, 0, 2, 2, 2, 0, 0, 2],\n",
      " [2, 2, 0, 0, 2, 0, 0, 2, 2],\n",
      " [2, 2, 2, 0, 0, 0, 2, 2, 2]]\n"
     ]
    }
   ],
   "source": [
    "import helper\n",
    "\n",
    "env_data = helper.fetch_maze()"
   ]
  },
  {
   "cell_type": "markdown",
   "metadata": {},
   "source": [
    "---\n",
    "\n",
    "\n",
    "**任务1：**在如下代码中，请写代码获得这些值：\n",
    "\n",
    "1. 模拟环境的长和宽\n",
    "2. 模拟环境中第3行第6列元素"
   ]
  },
  {
   "cell_type": "code",
   "execution_count": 2,
   "metadata": {},
   "outputs": [
    {
     "name": "stdout",
     "output_type": "stream",
     "text": [
      "迷宫共有 5 行 9 列，第三行第六列的元素是 2\n"
     ]
    }
   ],
   "source": [
    "#TODO 1模拟环境的行数\n",
    "rows = len(env_data) \n",
    "\n",
    "#TODO 2模拟环境的列数\n",
    "columns = len(env_data[0])\n",
    "\n",
    "#TODO 3取出模拟环境第三行第六列的元素\n",
    "row_3_col_6 = env_data[2][4] \n",
    "\n",
    "print(\"迷宫共有\", rows, \"行\", columns, \"列，第三行第六列的元素是\", row_3_col_6)"
   ]
  },
  {
   "cell_type": "markdown",
   "metadata": {
    "collapsed": true
   },
   "source": [
    "---\n",
    "\n",
    "## 1.2 分析模拟环境数据\n",
    "\n",
    "接着我们需要对模拟环境的中的数据进行分析。请根据如下的指示，计算相应的值。\n",
    "\n",
    "---\n",
    "\n",
    "**任务2：**在如下代码中，请计算模拟环境中，第一行和第三列的障碍物个数。\n",
    "\n",
    "提示：*可以用循环完成。*"
   ]
  },
  {
   "cell_type": "code",
   "execution_count": 3,
   "metadata": {},
   "outputs": [
    {
     "name": "stdout",
     "output_type": "stream",
     "text": [
      "迷宫中，第一行共有 7 个障碍物，第三列共有 3 个障碍物。\n"
     ]
    }
   ],
   "source": [
    "#TODO 4计算模拟环境中，第一行的的障碍物个数。\n",
    "number_of_barriers_row1 = 0\n",
    "number_of_barriers_col3 = 0\n",
    "for data in env_data[0]:\n",
    "    if data==2:\n",
    "        number_of_barriers_row1+=1\n",
    "    else:\n",
    "        continue\n",
    "#TODO 5计算模拟环境中，第三列的的障碍物个数。\n",
    "for datas in env_data:\n",
    "    if datas[2]==2:\n",
    "        number_of_barriers_col3+=1\n",
    "    else:\n",
    "        continue\n",
    "print(\"迷宫中，第一行共有\", number_of_barriers_row1, \"个障碍物，第三列共有\", number_of_barriers_col3, \"个障碍物。\")"
   ]
  },
  {
   "cell_type": "code",
   "execution_count": 4,
   "metadata": {},
   "outputs": [
    {
     "name": "stderr",
     "output_type": "stream",
     "text": [
      ".\n",
      "----------------------------------------------------------------------\n",
      "Ran 1 test in 0.002s\n",
      "\n",
      "OK\n"
     ]
    }
   ],
   "source": [
    "%run -i -e test.py RobotControllortTestCase.test_cal_barriers"
   ]
  },
  {
   "cell_type": "markdown",
   "metadata": {},
   "source": [
    "---\n",
    "\n",
    "**任务3：**在如下代码中：\n",
    "\n",
    "1. 创建一个名为 `loc_map` 的字典，它有两个键值，分别为 `start` 和 `destination`，对应的值分别为起点和目标点的坐标，它们以如 `(0,0)` 的形式保存为元组。\n",
    "2. 从字典中取出 `start` 对应的值，保存在 `robot_current_loc` 对应的变量中，这个变量表示小车现在的位置。"
   ]
  },
  {
   "cell_type": "code",
   "execution_count": 5,
   "metadata": {},
   "outputs": [],
   "source": [
    "loc_map = {} #TODO 6按照上述要求创建字典\n",
    "for i in range(len(env_data)):\n",
    "    for j in range(len(env_data[i])):\n",
    "        if env_data[i][j]==1:\n",
    "            loc_map['start']=(i,j)\n",
    "        elif env_data[i][j]==3:\n",
    "            loc_map['destination']=(i,j)\n",
    "\n",
    "\n",
    "robot_current_loc = loc_map['start'] #TODO 7保存机器人当前的位置"
   ]
  },
  {
   "cell_type": "code",
   "execution_count": 6,
   "metadata": {},
   "outputs": [
    {
     "name": "stderr",
     "output_type": "stream",
     "text": [
      ".\n",
      "----------------------------------------------------------------------\n",
      "Ran 1 test in 0.001s\n",
      "\n",
      "OK\n"
     ]
    }
   ],
   "source": [
    "%run -i -e test.py RobotControllortTestCase.test_cal_loc_map"
   ]
  },
  {
   "cell_type": "markdown",
   "metadata": {},
   "source": [
    "\n",
    "---\n",
    "\n",
    "---\n",
    "\n",
    "## 第二节 控制机器人随机漫步\n",
    "\n",
    "在这一步中，你需发出指令，控制机器人在环境中随机行动。它会考察你对控制流、调用函数的知识。"
   ]
  },
  {
   "cell_type": "markdown",
   "metadata": {},
   "source": [
    "\n",
    "\n",
    "## 2.1 控制机器人行动\n",
    "\n",
    "我们的机器人能够执行四个动作：向上走 `u`、向下走 `d`、向左走 `l`、向右走 `r`。但是，由于有障碍，很多时候机器人的行动并不能成功。所以在这里，你需要实现一个函数，来判断机器人在某个位置，执行某个移动动作是否可行。\n",
    "\n",
    "---\n",
    "\n",
    "**任务4：**在下方代码中，实现名为 `is_move_valid_special` 的函数，它有两个输入，分别为机器人所在的位置坐标 `loc`，以及即将执行的动作 `act`，如 `(1,1)` 及 `u`。接着它的返回是一个布尔值，表明小车在 `loc` 位置下，是否可以执行动作 `act`。\n",
    "\n",
    "\n",
    "提示1：*可以读取上方定义的 `env_data` 变量，来读取模拟环境的数据。*\n",
    "\n",
    "提示2：*在实现函数后，请删去下方的 `pass` 代码。*\n",
    "\n",
    "提示3：*我们需要处理边界的情况，即机器人走到了虚拟环境边界时，是不能够走出虚拟环境的。*"
   ]
  },
  {
   "cell_type": "code",
   "execution_count": 7,
   "metadata": {},
   "outputs": [],
   "source": [
    "def get_moved_position(loc,act):\n",
    "    endposition=None\n",
    "    r=loc[0]\n",
    "    c=loc[1]\n",
    "    if act=='u':\n",
    "        r-=1\n",
    "    if act=='d':\n",
    "        r+=1\n",
    "    if act=='l':\n",
    "        c-=1\n",
    "    if act=='r':\n",
    "        c+=1\n",
    "    endposition=(r,c)\n",
    "    return endposition\n",
    "def is_move_valid_special(loc, act):\n",
    "    \"\"\"\n",
    "    Judge wether the robot can take action act\n",
    "    at location loc.\n",
    "    \n",
    "    Keyword arguments:\n",
    "    loc -- tuple, robots current location\n",
    "    act -- string, robots meant action\n",
    "    \"\"\"    \n",
    "    #TODO 8\n",
    "    actlist=['u','d','l','r']\n",
    "    endposition=None\n",
    "    if not actlist.__contains__(act):\n",
    "        return false\n",
    "    endposition=get_moved_position(loc, act)\n",
    "    if endposition[0]<0 or endposition[0]>rows-1 or endposition[1]<0 or endposition[1]>columns-1:\n",
    "        return False\n",
    "    if env_data[endposition[0]][endposition[1]]==2:\n",
    "        return False\n",
    "    return True\n",
    "    "
   ]
  },
  {
   "cell_type": "code",
   "execution_count": 8,
   "metadata": {},
   "outputs": [
    {
     "name": "stderr",
     "output_type": "stream",
     "text": [
      ".\n",
      "----------------------------------------------------------------------\n",
      "Ran 1 test in 0.002s\n",
      "\n",
      "OK\n"
     ]
    }
   ],
   "source": [
    "%run -i -e test.py RobotControllortTestCase.test_is_move_valid_special"
   ]
  },
  {
   "cell_type": "markdown",
   "metadata": {},
   "source": [
    "---\n",
    "**任务5：**在下方代码中，重新实现一个名为 `is_move_valid` 的函数，它有三个输入，分别为模拟环境的数据 `env_data`、机器人所在的位置坐标 `loc`、以及即将执行的动作 `act`。它的返回值与此前一样，是一个布尔值，表明小车在给定的虚拟环境中的 `loc` 位置下，是否可以执行动作 `act`。"
   ]
  },
  {
   "cell_type": "code",
   "execution_count": 9,
   "metadata": {},
   "outputs": [],
   "source": [
    "def get_moved_loc(loc,act):\n",
    "    endposition=None\n",
    "    r=loc[0]\n",
    "    c=loc[1]\n",
    "    if act=='u':\n",
    "        r-=1\n",
    "    if act=='d':\n",
    "        r+=1\n",
    "    if act=='l':\n",
    "        c-=1\n",
    "    if act=='r':\n",
    "        c+=1\n",
    "    endposition=(r,c)\n",
    "    return endposition\n",
    "def is_move_valid(env_data,loc,act):\n",
    "    \"\"\"\n",
    "    Judge wether the robot can take action act\n",
    "    at location loc.\n",
    "    \n",
    "    Keyword arguments:\n",
    "    loc -- tuple, robots current location\n",
    "    act -- string, robots meant action\n",
    "    \"\"\"    \n",
    "    #TODO 8\n",
    "    actlist=['u','d','l','r']\n",
    "    endposition=None\n",
    "    if not actlist.__contains__(act):\n",
    "        return false\n",
    "    endposition=get_moved_loc(loc, act)\n",
    "    if endposition[0]<0 or endposition[0]>rows-1 or endposition[1]<0 or endposition[1]>columns-1:\n",
    "        return False\n",
    "    if env_data[endposition[0]][endposition[1]]==2:\n",
    "        return False\n",
    "    return True"
   ]
  },
  {
   "cell_type": "code",
   "execution_count": 10,
   "metadata": {},
   "outputs": [
    {
     "name": "stderr",
     "output_type": "stream",
     "text": [
      ".\n",
      "----------------------------------------------------------------------\n",
      "Ran 1 test in 0.003s\n",
      "\n",
      "OK\n"
     ]
    }
   ],
   "source": [
    "%run -i -e test.py RobotControllortTestCase.test_is_move_valid"
   ]
  },
  {
   "cell_type": "markdown",
   "metadata": {},
   "source": [
    "---\n",
    "\n",
    "**任务6：**请回答：\n",
    "  1. 在任务4及任务5中的实现的两个函数中，`env_data` 这个变量有什么不同？\n",
    "  2. 调用``is_move_valid``函数，参数为``env_data_``、``loc_``、``act_``，如果在函数内修改``env_data``是否会改变``env_data_``的值？为什么？\n",
    "  \n",
    "提示：_可以尝试从变量作用域的角度回答该问题1。_\n",
    "\n",
    "\n",
    "提示：_可以尝试从可变类型变量和不可变类型变量的角度回答该问题2。_\n",
    "\n"
   ]
  },
  {
   "cell_type": "markdown",
   "metadata": {},
   "source": [
    "**回答：** （请在这里填写你的回答）\n",
    "  1.任务4的env_data是全局变量，可以在整个类中使用。任务5的为局部变量只能在函数内部使用\n",
    "  2.会改变，env_data为list类型为可变类型变量，进行深度拷贝后，一个修改另一个也会跟着修改"
   ]
  },
  {
   "cell_type": "markdown",
   "metadata": {},
   "source": [
    "---\n",
    "\n",
    "## 2.2 机器人可行动作\n",
    "\n",
    "---\n",
    "\n",
    "**任务7：**编写一个名为 `valid_actions` 的函数。它有两个输入，分别为虚拟环境的数据 `env_data`，以及机器人所在的位置 `loc`，输出是一个列表，表明机器人在这个位置所有的可行动作。\n",
    "\n",
    "提示：*可以尝试调用上方定义的`is_move_valid`函数。*\n"
   ]
  },
  {
   "cell_type": "code",
   "execution_count": 11,
   "metadata": {},
   "outputs": [],
   "source": [
    "## TODO 10 从头定义、实现你的函数\n",
    "def valid_actions(env_data,loc):\n",
    "    able_move=[]\n",
    "    actlist=['u','d','l','r']\n",
    "    for act in actlist:\n",
    "        if is_move_valid(env_data,loc,act):\n",
    "            able_move.append(act)\n",
    "    return able_move"
   ]
  },
  {
   "cell_type": "code",
   "execution_count": 12,
   "metadata": {},
   "outputs": [
    {
     "name": "stderr",
     "output_type": "stream",
     "text": [
      ".\n",
      "----------------------------------------------------------------------\n",
      "Ran 1 test in 0.003s\n",
      "\n",
      "OK\n"
     ]
    }
   ],
   "source": [
    "%run -i -e test.py RobotControllortTestCase.test_valid_actions"
   ]
  },
  {
   "cell_type": "markdown",
   "metadata": {},
   "source": [
    "---\n",
    "\n",
    "## 2.3 移动机器人\n",
    "\n",
    "当机器人收到一个动作的时候，你机器人的位置应发生相应的变化。\n",
    "\n",
    "**任务8：**编写一个名为 `move_robot` 的函数，它有两个输入，分别为机器人当前所在的位置 `loc` 和即将执行的动作 `act`。接着会返回机器人执行动作之后的新位置 `new_loc`。"
   ]
  },
  {
   "cell_type": "code",
   "execution_count": 13,
   "metadata": {},
   "outputs": [],
   "source": [
    "##TODO 11 从头定义、实现你的函数\n",
    "def move_robot(loc,act):\n",
    "    endposition=None\n",
    "    r=loc[0]\n",
    "    c=loc[1]\n",
    "    if act=='u':\n",
    "        r-=1\n",
    "    if act=='d':\n",
    "        r+=1\n",
    "    if act=='l':\n",
    "        c-=1\n",
    "    if act=='r':\n",
    "        c+=1\n",
    "    endposition=(r,c)\n",
    "    return endposition"
   ]
  },
  {
   "cell_type": "code",
   "execution_count": 14,
   "metadata": {},
   "outputs": [
    {
     "name": "stderr",
     "output_type": "stream",
     "text": [
      ".\n",
      "----------------------------------------------------------------------\n",
      "Ran 1 test in 0.001s\n",
      "\n",
      "OK\n"
     ]
    }
   ],
   "source": [
    "%run -i -e test.py RobotControllortTestCase.test_move_robot"
   ]
  },
  {
   "cell_type": "markdown",
   "metadata": {},
   "source": [
    "---\n",
    "\n",
    "## 2.4 随机移动机器人\n",
    "\n",
    "接着，我们尝试在虚拟环境中随机移动机器人，看看会有什么效果。\n",
    "\n",
    "**任务9：**编写一个名为 `random_choose_actions` 的函数，它有两个输入，分别为虚拟环境的数据 `env_data`，以及机器人所在的位置 `loc`。机器人会执行一个300次的循环，每次循环，他会执行以下任务：\n",
    "\n",
    "1. 利用上方定义的 `valid_actions` 函数，找出当前位置下，机器人可行的动作；\n",
    "2. 利用 `random` 库中的 `choice` 函数，从机器人可行的动作中，随机挑选出一个动作；\n",
    "3. 接着根据这个动作，利用上方定义的 `move_robot` 函数，来移动机器人，并更新机器人的位置；\n",
    "4. 当机器人走到终点时，输出“在第n个回合找到宝藏！”。\n",
    "\n",
    "提示：如果机器人无法在300个回合内找到宝藏的话，试试看增大这个数字，也许会有不错的效果 :P"
   ]
  },
  {
   "cell_type": "code",
   "execution_count": 15,
   "metadata": {},
   "outputs": [],
   "source": [
    "##TODO 12 从头实现你的函数\n",
    "import random\n",
    "def random_choose_actions(env_data,loc):\n",
    "    moved_loc=[]\n",
    "    moved_loc.append(loc)\n",
    "    for i in range(300):\n",
    "        #获得可用的移动方式\n",
    "        able_moves=valid_actions(env_data,loc)\n",
    "        #随机获得本次移动方式\n",
    "        act=random.choice(able_moves)\n",
    "        #得到新的地点\n",
    "        new_loc=move_robot(loc,act)\n",
    "        if moved_loc.__contains__(new_loc):\n",
    "            continue\n",
    "        else:\n",
    "            loc=new_loc\n",
    "            moved_loc.append(loc)\n",
    "            if env_data[loc[0]][loc[1]]==3:\n",
    "                print('在第%d步找到宝藏' % (i+1))\n",
    "                print('\\n 路线是: \\n')\n",
    "                print(moved_loc)\n",
    "                return\n",
    "    print('无法找到宝藏')    "
   ]
  },
  {
   "cell_type": "code",
   "execution_count": 16,
   "metadata": {},
   "outputs": [
    {
     "name": "stdout",
     "output_type": "stream",
     "text": [
      "在第35步找到宝藏\n",
      "\n",
      " 路线是: \n",
      "\n",
      "[(0, 8), (1, 8), (1, 7), (2, 7), (2, 6), (3, 6), (3, 5), (4, 5), (4, 4), (4, 3), (3, 3), (3, 2), (2, 2), (2, 1), (1, 1), (1, 0), (0, 0)]\n"
     ]
    }
   ],
   "source": [
    "# 运行\n",
    "random_choose_actions(env_data, robot_current_loc)"
   ]
  },
  {
   "cell_type": "markdown",
   "metadata": {},
   "source": [
    "\n",
    "---\n",
    "\n",
    "---\n",
    "\n",
    "## （可选）第三节 控制机器人走到终点\n",
    "\n",
    "## 3.1 控制机器人走到终点\n",
    "\n",
    "在这里，你将综合上述的知识，编码控制机器人走到终点。这个任务对刚刚入门的你来说可能有些挑战，所以它是一个选做题。\n",
    "\n",
    "**任务10**：尝试实现一个算法，能够对给定的模拟环境，输出机器人的行动策略，使之能够走到终点。\n",
    "\n",
    "提示：_你可以尝试参考：_\n",
    "* 深度/广度优先算法。\n",
    "    以及以下参考资料：\n",
    "    1. https://blog.csdn.net/raphealguo/article/details/7523411 \n",
    "    2. https://www.cnblogs.com/yupeng/p/3414736.html \n",
    "* A星算法。\n",
    "    以及以下参考资料：\n",
    "    1. https://baike.baidu.com/item/A%2A算法 \n",
    "    2. https://blog.csdn.net/hitwhylz/article/details/23089415"
   ]
  },
  {
   "cell_type": "code",
   "execution_count": 17,
   "metadata": {},
   "outputs": [],
   "source": [
    "##TODO 13 实现你的算法\n",
    "import queue\n",
    "#获取所有移动方式动作后的位置 参数loc, able_acts\n",
    "def get_move_position_list(loc,able_acts):\n",
    "    endlocs=[]\n",
    "    if able_acts==[]:\n",
    "        return endlocs\n",
    "    else:\n",
    "        for act in able_acts:           \n",
    "            endloc=move_robot(loc,act)\n",
    "            endlocs.append(endloc)\n",
    "    return endlocs\n",
    "\n",
    "#广度优先\n",
    "def breadth_first_actions(env_data,loc):\n",
    "    search_queue=queue.Queue() \n",
    "    moved_loc=[] #用于保存移动过的位置 防止多次检查\n",
    "    # moved_loc.append(loc)\n",
    "    search_queue.put(loc) #将当前位置加入队列\n",
    "    step=1\n",
    "    while search_queue:\n",
    "        step+=1\n",
    "        loc_current=search_queue.get(); #将队列中的第一个loc弹出\n",
    "        if env_data[loc_current[0]][loc_current[1]]==3:  #如果是宝藏则停止查找\n",
    "            moved_loc.append(loc_current)\n",
    "            print('在第%d步找到宝藏' % (step))\n",
    "            print('\\n 路线是: \\n')\n",
    "            print(moved_loc)\n",
    "            return\n",
    "        else: #如果不是宝藏则将其可到达的邻居加入队列\n",
    "            able_acts=valid_actions(env_data,loc_current)\n",
    "            endlocs=get_move_position_list(loc_current,able_acts) #找到左右可到达的邻居\n",
    "            for endloc in endlocs:\n",
    "                if not moved_loc.__contains__(endloc):                   \n",
    "                    search_queue.put(endloc)      \n",
    "            moved_loc.append(loc_current)\n",
    "            \n",
    "#A*\n",
    "class node_model(object):\n",
    "    \n",
    "    def __init__(self,father_node,loc,start_loc,end_loc):\n",
    "        self._father_node=father_node\n",
    "        self._loc=loc\n",
    "        self._start_loc=start_loc \n",
    "        self._end_loc=end_loc\n",
    "        \n",
    "    @property\n",
    "    def distance_g(self):\n",
    "        return get_distance_g(self,self._start_loc)\n",
    "    \n",
    "    @property\n",
    "    def distance_h(self):\n",
    "        return get_distance_h(self,self._end_loc)\n",
    "    \n",
    "    @property\n",
    "    def distance_f(self):\n",
    "        return (self.distance_h+self.distance_g)\n",
    "    \n",
    "    #设置优先级  本来想用priorityqueue 但找了半天网上没有判断这个元素是否在这个队列中的方法\n",
    "    def __lt__(self,other):\n",
    "        return self.distance_f <other.distance_f\n",
    "\n",
    "    \n",
    "\n",
    "# 获取当前点的g距离 即到起点的距离\n",
    "def get_distance_g(node_loc,start_loc):\n",
    "    distance=0\n",
    "    if node_loc._loc==start_loc:\n",
    "        return distance\n",
    "    else:\n",
    "        distance=distance+get_distance_g(node_loc._father_node,start_loc)\n",
    "    return distance+1\n",
    "\n",
    "# 获取当前点的h距离 即到终点的距离\n",
    "def get_distance_h(node,end_loc):\n",
    "    distance=abs(node._loc[0]-end_loc[0])+abs(node._loc[1]-end_loc[1])\n",
    "    return distance\n",
    "\n",
    "# 获取最终路线\n",
    "def get_route_list(node):\n",
    "    route_list=[]\n",
    "    while node._father_node!=None:\n",
    "        route_list.append(node._loc)\n",
    "        node=node._father_node\n",
    "    route_list.reverse()\n",
    "    return route_list\n",
    "\n",
    "def get_total_dictance(node):\n",
    "    if(node==None):\n",
    "        return int(\"inf\")\n",
    "    else:\n",
    "        return node.distance_f\n",
    "\n",
    "def a_star_pathfinding(env_data,start_loc,end_loc):\n",
    "    #创建openlist与closelist\n",
    "    open_list=[]\n",
    "    close_list=[]\n",
    "    #根据start_loc创建start_node\n",
    "    start_node=node_model(None,start_loc,start_loc,end_loc)\n",
    "    #将起点放进openlist\n",
    "    open_list.append(start_node)\n",
    "\n",
    "    #开始主循环\n",
    "    while not open_list==[]:\n",
    "        current_node=open_list[0]\n",
    "        close_list.append(current_node._loc) #放进close list\n",
    "        open_list.pop(0)  \n",
    "        #如果是宝藏点那么就停止\n",
    "        if current_node._loc==end_loc:\n",
    "            route_list=get_route_list(current_node)\n",
    "            print('到终点的路线是\\n')\n",
    "            print(route_list)\n",
    "            return\n",
    "        #首先找到这个点的可到达邻居\n",
    "        able_acts=valid_actions(env_data,current_node._loc)\n",
    "        moved_locs=get_move_position_list(current_node._loc,able_acts) #找到左右可到达的邻居\n",
    "        #将其邻居loc转换位node后 加入open_list\n",
    "        for moved_loc in moved_locs:\n",
    "            moved_node=node_model(current_node,moved_loc,start_loc,end_loc)\n",
    "            #判断是否已经再openlist中\n",
    "            if not open_list.__contains__(moved_node) and not close_list.__contains__(moved_node._loc):                 \n",
    "                open_list.append(moved_node)\n",
    "                open_list.sort(key=lambda x:x.distance_f)    \n",
    "        \n",
    "    print('无法找到宝藏')\n",
    "\n"
   ]
  },
  {
   "cell_type": "markdown",
   "metadata": {},
   "source": [
    "> 注意: 当你写完了所有的代码，并且回答了所有的问题。你就可以把你的 iPython Notebook 导出成 HTML 文件。你可以在菜单栏，这样导出**File -> Download as -> HTML (.html)**把这个 HTML 和这个 iPython notebook 一起做为你的作业提交。"
   ]
  },
  {
   "cell_type": "code",
   "execution_count": null,
   "metadata": {},
   "outputs": [],
   "source": []
  }
 ],
 "metadata": {
  "kernelspec": {
   "display_name": "Python 3",
   "language": "python",
   "name": "python3"
  },
  "language_info": {
   "codemirror_mode": {
    "name": "ipython",
    "version": 3
   },
   "file_extension": ".py",
   "mimetype": "text/x-python",
   "name": "python",
   "nbconvert_exporter": "python",
   "pygments_lexer": "ipython3",
   "version": "3.7.1"
  }
 },
 "nbformat": 4,
 "nbformat_minor": 2
}
